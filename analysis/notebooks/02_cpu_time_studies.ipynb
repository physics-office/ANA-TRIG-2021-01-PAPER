{
 "cells": [
  {
   "cell_type": "markdown",
   "metadata": {},
   "source": [
    "# Trigger CPU Time Studies:\n",
    "\n"
   ]
  },
  {
   "cell_type": "code",
   "execution_count": 3,
   "metadata": {},
   "outputs": [
    {
     "name": "stdout",
     "output_type": "stream",
     "text": [
      "\n",
      "Applying ATLAS style settings...\n"
     ]
    }
   ],
   "source": [
    "#from Gaugi.monet.TAxisFunctions import *\n",
    "#from Gaugi.monet.PlotFunctions import *\n",
    "#from Gaugi.monet import ATLASLabel\n",
    "from ROOT import TH1,TH1F, TH2F, TProfile,TCanvas, TFile, TPad, TColor\n",
    "from ROOT import kBlack,kBlue,kRed,kAzure,kGreen,kMagenta,kCyan,kOrange,kGray,kYellow\n",
    "import numpy as np\n",
    "import math, ROOT\n",
    "import rootplotlib as rpl\n",
    "rpl.set_atlas_style()\n",
    "rpl.suppress_root_warnings()\n",
    "\n",
    "\n",
    "%config InlineBackend.figure_format = 'retina'\n",
    "#%jsroot on\n",
    "#%config InlineBackend.figure_format = 'svg'"
   ]
  },
  {
   "cell_type": "code",
   "execution_count": 5,
   "metadata": {},
   "outputs": [],
   "source": [
    "# readin my samples\n",
    "f_ringer    = TFile(\"/mnt/cern_data/joao.pinto/data17_13TeV/files/commissioning/time_studies/samples/ringer.root\",'r')\n",
    "f_noringer  = TFile(\"/mnt/cern_data/joao.pinto/data17_13TeV/files/commissioning/time_studies/samples/noringer.root\",'r')"
   ]
  },
  {
   "cell_type": "code",
   "execution_count": 6,
   "metadata": {},
   "outputs": [
    {
     "data": {
      "image/png": "[encoded data removed]",
      "text/plain": [
       "<IPython.core.display.Image object>"
      ]
     },
     "metadata": {},
     "output_type": "display_data"
    }
   ],
   "source": [
    "def plot_fex_totaltime():\n",
    "    drawopt='hist'\n",
    "    divide=''\n",
    "\n",
    "    outcan = TCanvas( 'canvas', \"\", 700, 500 ) \n",
    "    h1 = f_noringer.Get(\"T2CaloEgamma_eGamma/Execute_Time\")\n",
    "    h2 = f_ringer.Get(\"T2CaloEgamma_Ringer/Execute_Time\")\n",
    "    h3 = f_ringer.Get(\"T2CaloEgamma_Ringer/RingerFex_Execute_Time\")\n",
    "    outcan.cd()\n",
    "    h1.SetLineColor(kBlack)\n",
    "    h1.SetFillColor(kYellow-4)\n",
    "    #h1.SetFillColor(kRed-9)\n",
    "    #h1.SetFillColor(kAzure-4)\n",
    "    #h1.SetFillColor( TColor.GetColorTransparent(kAzure-4,.8))\n",
    "    \n",
    "    \n",
    "    #h1.SetMarkerColor(kYellow-7)\n",
    "    h1.SetMarkerColor(kRed-7)\n",
    "    \n",
    "    h2.SetLineColor(kBlack)\n",
    "    h1.SetName('')\n",
    "    h2.SetName('')\n",
    "    h1.SetAxisRange(0.5,5.5,'X')\n",
    "    h2.SetAxisRange(0.5,5.5,'X')\n",
    "    h1.SetMaximum(390)\n",
    "    h2.SetMaximum(390)\n",
    "    h1.Draw(drawopt)\n",
    "    h1.Draw(drawopt)\n",
    "    #AddHistogram(outcan,h1,drawopt=drawopt) \n",
    "    #AddHistogram(outcan,h2,drawopt=drawopt) \n",
    "  \n",
    "    bot = TPad(\"pad_bot\", \"This is the bottom pad\",0.50,0.27,0.94,0.77)\n",
    "    bot.SetBottomMargin(0.10/float(bot.GetHNDC()))\n",
    "    bot.SetTopMargin   (0.02/float(bot.GetHNDC()))\n",
    "    bot.SetRightMargin (0.05)\n",
    "    bot.SetLeftMargin  (0.16)\n",
    "    bot.SetFillColor(0)\n",
    "    bot.Draw(drawopt)\n",
    "    bot.cd()\n",
    "    h3.SetAxisRange(0.13, 0.26,\"X\")\n",
    "    h3.SetLineColor(kBlack)\n",
    "    h3.SetLineWidth(1)\n",
    "    h3.SetLineColor(kBlack)\n",
    "    h3.SetFillColor(0)\n",
    "    h3.GetXaxis().SetTitle('')\n",
    "    h3.Draw()\n",
    "  \n",
    "    #DrawText(bot,['Ringer Extraction Only', 'Time: %1.2f#pm%1.2f ms'%(h3.GetMean(),h3.GetStdDev())],.40,.68,.70,.93,totalentries=4)\n",
    "    h3.Draw(drawopt)\n",
    "    #AddHistogram(bot,h3,drawopt=drawopt) \n",
    "    #FormatCanvasAxes(bot, XLabelSize=18, YLabelSize=18, XTitleOffset=0.87, YTitleOffset=1.5)\n",
    "  \n",
    "    #MakeLegend(outcan,.5,.80,.89,.99,option='F',textsize=14, names=['Without Ringer (FastCalo extraction)','With Ringer (FastCalo extraction)'], ncolumns=1, \n",
    "    #         squarebox=True, doFixLength=False)\n",
    "  \n",
    "    #FormatCanvasAxes(outcan, XLabelSize=18, YLabelSize=18, XTitleOffset=0.87, YTitleOffset=1)\n",
    "    #SetAxisLabels(outcan,\"Algorithm CPU Time [ms]\",'Count')\n",
    "    #ATLASLabel(0.2,0.88,'Internal')\n",
    "    outcan.Modified()\n",
    "    outcan.Update()\n",
    "    outcan.SaveAs(\"EgammaFex_TotalTime.pdf\")\n",
    "    outcan.Draw()\n",
    "\n",
    "    \n",
    "plot_fex_totaltime()"
   ]
  },
  {
   "cell_type": "code",
   "execution_count": 28,
   "metadata": {},
   "outputs": [
    {
     "name": "stderr",
     "output_type": "stream",
     "text": [
      "Info in <TCanvas::Print>: pdf file EgammaHypo_TotalTime.pdf has been created\n"
     ]
    },
    {
     "data": {
      "image/png": "[encoded data removed]",
      "text/plain": [
       "<IPython.core.display.Image object>"
      ]
     },
     "metadata": {},
     "output_type": "display_data"
    }
   ],
   "source": [
    "def plot_hypo_totaltime():\n",
    "    drawopt='hist'\n",
    "    divide=''\n",
    "    outcan = TCanvas( 'canvas', \"\", 700, 500 ) \n",
    "\n",
    "    h1 = f_ringer.Get(\"TrigL2CaloRingerHypo_e26_lhtight/Execute_Time\")\n",
    "    h2 = f_ringer.Get(\"TrigL2CaloRingerFex_e26_lhtight/Execute_Time\")\n",
    "    h_noringer = f_noringer.Get(\"TrigL2CaloHypo_e26_lhtight/Execute_Time\")\n",
    "\n",
    "    # make shift\n",
    "    offset = h1.FindBin( h1.GetMean() )\n",
    "    offset = h2.FindBin(offset*h1.GetXaxis().GetXmax()/float(h1.GetNbinsX()))\n",
    "    h_shift = TH1F('','', h2.GetNbinsX(), 0, h2.GetXaxis().GetXmax())\n",
    "    for bin in range(h2.GetNbinsX()):\n",
    "        h_shift.SetBinContent( bin+offset, h2.GetBinContent(bin) )\n",
    "    h_ringer = h_shift\n",
    " \n",
    "\n",
    "    outcan.cd()\n",
    "    h_noringer.SetLineColor(kBlack)\n",
    "    h_noringer.SetFillColor(kYellow-4)\n",
    "    h_noringer.SetMarkerColor(kYellow-4)\n",
    "    h_ringer.SetLineColor(kBlack)\n",
    "    h_ringer.SetLineWidth(1)\n",
    "    h_ringer.SetAxisRange(0,0.15,'X')\n",
    "    h_noringer.SetAxisRange(0,0.15,'X')\n",
    "    h_noringer.Rebin(2)\n",
    "    h_ringer.SetMaximum(1750)\n",
    "    h_noringer.SetMaximum(1750)\n",
    "  \n",
    "    AddHistogram(outcan,h_ringer,drawopt=drawopt) \n",
    "    AddHistogram(outcan,h_noringer,drawopt=drawopt) \n",
    "\n",
    "    h3 = f_ringer.Get('TrigL2CaloRingerFex_e26_lhtight/StoreOutput_Time')\n",
    "    bot = TPad(\"pad_bot\", \"This is the bottom pad\",0.32,0.25,0.75,0.75)\n",
    "    bot.SetBottomMargin(0.10/float(bot.GetHNDC()))\n",
    "    bot.SetTopMargin   (0.02/float(bot.GetHNDC()))\n",
    "    bot.SetRightMargin (0.05)\n",
    "    bot.SetLeftMargin  (0.16)\n",
    "    bot.SetFillColor(0)\n",
    "    bot.Draw(drawopt)\n",
    "    bot.cd()\n",
    "    h3.SetAxisRange(0.02, 0.14,\"X\")\n",
    "    h3.SetLineColor(kBlack)\n",
    "    h3.SetLineWidth(1)\n",
    "    h3.SetLineColor(kBlack)\n",
    "    h3.SetFillColor(0)\n",
    "    h3.Draw()\n",
    "    DrawText(bot,['Save NN output','into Storegate', 'Time: %1.2f#pm%1.2f ms'%(h3.GetMean(),h3.GetStdDev())],.55,.55,.70,.8,totalentries=4)\n",
    "    AddHistogram(bot,h3,drawopt=drawopt) \n",
    "    FormatCanvasAxes(bot, XLabelSize=18, YLabelSize=18, XTitleOffset=0.87, YTitleOffset=1.5)\n",
    "    MakeLegend(outcan,.50,.80,.89,.97,option='F',textsize=14, names=['With Ringer (FastCalo Decision)',\n",
    "                'Without Ringer (FastCalo Decision)'], ncolumns=1, squarebox=False, doFixLength=False)\n",
    " \n",
    "  \n",
    "    FormatCanvasAxes(outcan, XLabelSize=18, YLabelSize=18, XTitleOffset=0.87, YTitleOffset=1)\n",
    "    SetAxisLabels(outcan,\"Algorithm CPU Time [ms]\",'Count')\n",
    "    ATLASLabel(0.2,0.88,'Internal')\n",
    "    outcan.Modified()\n",
    "    outcan.Update()\n",
    "    outcan.Draw()\n",
    "    outcan.SaveAs(\"EgammaHypo_TotalTime.pdf\")\n",
    "\n",
    "plot_hypo_totaltime()"
   ]
  },
  {
   "cell_type": "code",
   "execution_count": 7,
   "metadata": {},
   "outputs": [
    {
     "name": "stderr",
     "output_type": "stream",
     "text": [
      "Warning in <TCanvas::Constructor>: Deleting canvas with same name: canvas\n",
      "Info in <TCanvas::SaveSource>: C++ Macro file: plot_chain_summary.C has been generated\n",
      "Info in <TCanvas::Print>: pdf file plot_chain_summary.pdf has been created\n"
     ]
    },
    {
     "data": {
      "image/png": "[encoded data removed]",
      "text/plain": [
       "<IPython.core.display.Image object>"
      ]
     },
     "metadata": {},
     "output_type": "display_data"
    }
   ],
   "source": [
    "def plot_primary_trigger_time_summary():\n",
    "\n",
    "    drawopt='hist'\n",
    "    divide=''\n",
    "    h1 = f_ringer.Get(\"TIMERS/TrigSteer_HLT_Chains_runsummary\")\n",
    "    h2 = f_noringer.Get(\"TIMERS/TrigSteer_HLT_Chains_runsummary\")\n",
    "\n",
    "    outcan = TCanvas( 'canvas', \"\", 700, 500 ) \n",
    "    h1.SetLineColor(kAzure-5)\n",
    "    h1.SetFillColor(kAzure-4)\n",
    "    h1.SetMarkerColor(kAzure-4)\n",
    "    h2.SetLineColor(kBlack)\n",
    "  \n",
    "    outcan.SaveAs( \"plot_chain_summary.C\" )\n",
    "    h1.SetMaximum(50)\n",
    "    h1.SetAxisRange(0,2,'X')\n",
    "    h2.SetAxisRange(0,2,'X')\n",
    "    h1.SetAxisRange(0,50,'Y')\n",
    "    h2.SetAxisRange(0,50,'Y')\n",
    "    AddHistogram(outcan,h1,drawopt=drawopt) \n",
    "    AddHistogram(outcan,h2,drawopt=drawopt) \n",
    "\n",
    "    ATLASLabel(0.2,0.88,'Internal')\n",
    "    outcan.Modified()\n",
    "    outcan.Update()\n",
    "    outcan.Draw()\n",
    "    MakeLegend(outcan,.50,.77,.89,.97,option='p',textsize=14, names=['e26_lhtight_nod0_ivarloose',\n",
    "            'e26_lhtight_nod0_noringer_ivarloose'], ncolumns=1, squarebox=False, doFixLength=False)\n",
    "  \n",
    "    FormatCanvasAxes(outcan, XLabelSize=9, YLabelSize=18, XTitleOffset=0.87, YTitleOffset=1)\n",
    "    SetAxisLabels(outcan,\"Chains\",'[ms]')\n",
    "  \n",
    "    outcan.SaveAs(\"plot_chain_summary.pdf\")\n",
    "    outcan.Draw()\n",
    "\n",
    "plot_primary_trigger_time_summary()"
   ]
  },
  {
   "cell_type": "code",
   "execution_count": null,
   "metadata": {},
   "outputs": [],
   "source": []
  },
  {
   "cell_type": "code",
   "execution_count": null,
   "metadata": {},
   "outputs": [],
   "source": []
  },
  {
   "cell_type": "code",
   "execution_count": null,
   "metadata": {},
   "outputs": [],
   "source": []
  }
 ],
 "metadata": {
  "kernelspec": {
   "display_name": "Python 3 (ipykernel)",
   "language": "python",
   "name": "python3"
  },
  "language_info": {
   "codemirror_mode": {
    "name": "ipython",
    "version": 3
   },
   "file_extension": ".py",
   "mimetype": "text/x-python",
   "name": "python",
   "nbconvert_exporter": "python",
   "pygments_lexer": "ipython3",
   "version": "3.8.10"
  }
 },
 "nbformat": 4,
 "nbformat_minor": 4
}
